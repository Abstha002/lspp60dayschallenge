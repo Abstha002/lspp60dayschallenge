{
 "cells": [
  {
   "cell_type": "markdown",
   "id": "ee7a2ec4",
   "metadata": {},
   "source": [
    "# LSPP Day 9 \n",
    "---\n",
    "## pandas library"
   ]
  },
  {
   "cell_type": "code",
   "execution_count": 1,
   "id": "fee423f1",
   "metadata": {},
   "outputs": [],
   "source": [
    "import pandas as pd\n"
   ]
  },
  {
   "cell_type": "code",
   "execution_count": null,
   "id": "7dab5167",
   "metadata": {},
   "outputs": [
    {
     "name": "stdout",
     "output_type": "stream",
     "text": [
      "0    Alice\n",
      "1      Bob\n",
      "2    harry\n",
      "dtype: object\n"
     ]
    }
   ],
   "source": [
    "names=pd.Series([\"Alice\",\"Bob\",\"harry\"])\n",
    "print(names)"
   ]
  },
  {
   "cell_type": "code",
   "execution_count": null,
   "id": "459a6d2f",
   "metadata": {},
   "outputs": [
    {
     "name": "stdout",
     "output_type": "stream",
     "text": [
      "      Name  Age      City\n",
      "0    Alice   25  New York\n",
      "1      Bob   30     Paris\n",
      "2  Charlie   35    London\n"
     ]
    }
   ],
   "source": [
    "# DataFrame from a dictionary\n",
    "data = {\n",
    "    'Name': ['Alice', 'Bob', 'Charlie'],\n",
    "    'Age': [25, 30, 35],\n",
    "    'City': ['New York', 'Paris', 'London']\n",
    "}\n",
    "\n",
    "df = pd.DataFrame(data)\n",
    "print(df)\n"
   ]
  },
  {
   "cell_type": "code",
   "execution_count": 10,
   "id": "36da8822",
   "metadata": {},
   "outputs": [
    {
     "name": "stdout",
     "output_type": "stream",
     "text": [
      "0      Alice\n",
      "1        Bob\n",
      "2    Charlie\n",
      "Name: Name, dtype: object\n",
      "<class 'pandas.core.series.Series'>\n",
      "      Name  Age      City Country\n",
      "0    Alice   25  New York     USA\n",
      "1      Bob   30     Paris  France\n",
      "2  Charlie   35    London      UK\n",
      "\n",
      "\n",
      "      Name  Age      City Country\n",
      "0    Alice   25  New York     USA\n",
      "1      Bob   30     Paris  France\n",
      "2  Charlie   35    London      UK\n",
      "\n",
      "\n",
      "<class 'pandas.core.frame.DataFrame'>\n",
      "RangeIndex: 3 entries, 0 to 2\n",
      "Data columns (total 4 columns):\n",
      " #   Column   Non-Null Count  Dtype \n",
      "---  ------   --------------  ----- \n",
      " 0   Name     3 non-null      object\n",
      " 1   Age      3 non-null      int64 \n",
      " 2   City     3 non-null      object\n",
      " 3   Country  3 non-null      object\n",
      "dtypes: int64(1), object(3)\n",
      "memory usage: 224.0+ bytes\n",
      "\n",
      "\n",
      "        Age\n",
      "count   3.0\n",
      "mean   30.0\n",
      "std     5.0\n",
      "min    25.0\n",
      "25%    27.5\n",
      "50%    30.0\n",
      "75%    32.5\n",
      "max    35.0\n"
     ]
    }
   ],
   "source": [
    "print(df['Name'])\n",
    "print(type(df['Name']))\n",
    "print(df.head())\n",
    "# New country column added\n",
    "print('\\n')\n",
    "df['Country'] = ['USA', 'France', 'UK']\n",
    "print(df)\n",
    "print('\\n')\n",
    "df.info()\n",
    "print('\\n')\n",
    "print(df.describe())"
   ]
  },
  {
   "cell_type": "code",
   "execution_count": 16,
   "id": "56671ad0",
   "metadata": {},
   "outputs": [
    {
     "name": "stdout",
     "output_type": "stream",
     "text": [
      "      Name  Age      City\n",
      "0    Alice   28  New York\n",
      "1      Bob   33     Paris\n",
      "2  Charlie   38    London\n",
      "      Name  Age    City\n",
      "1      Bob   33   Paris\n",
      "2  Charlie   38  London\n"
     ]
    }
   ],
   "source": [
    "# The first modified the code and update the data set\n",
    "df['Age'] = df['Age'] + 1\n",
    "# Remove the 'Country' column\n",
    "df = df.drop('Country', axis=1)\n",
    "print(df)\n",
    "filteredvalue=df[df['Age']>30]\n",
    "print(filteredvalue)"
   ]
  },
  {
   "cell_type": "code",
   "execution_count": 18,
   "id": "db5d96e9",
   "metadata": {},
   "outputs": [
    {
     "name": "stdout",
     "output_type": "stream",
     "text": [
      "  Department  Salary\n",
      "0         IT   50000\n",
      "1         HR   45000\n",
      "2         IT   60000\n",
      "3         HR   47000\n",
      "4    Finance   52000\n",
      "\n",
      "\n",
      "             Salary\n",
      "Department         \n",
      "Finance     52000.0\n",
      "HR          46000.0\n",
      "IT          55000.0\n"
     ]
    }
   ],
   "source": [
    "group_data = {\n",
    "    'Department': ['IT', 'HR', 'IT', 'HR', 'Finance'],\n",
    "    'Salary': [50000, 45000, 60000, 47000, 52000]\n",
    "}\n",
    "\n",
    "df2 = pd.DataFrame(group_data)\n",
    "print(df2)\n",
    "print('\\n')\n",
    "print(df2.groupby('Department').mean())"
   ]
  },
  {
   "cell_type": "code",
   "execution_count": 19,
   "id": "7ac0b36e",
   "metadata": {},
   "outputs": [
    {
     "data": {
      "image/png": "[encoded data removed]",
      "text/plain": [
       "<Figure size 640x480 with 1 Axes>"
      ]
     },
     "metadata": {},
     "output_type": "display_data"
    }
   ],
   "source": [
    "import matplotlib.pyplot as plt\n",
    "\n",
    "# Create a simple line plot\n",
    "df = pd.DataFrame({\n",
    "    'Year': [2020, 2021, 2022],\n",
    "    'Sales': [200, 250, 300]\n",
    "})\n",
    "\n",
    "plt.plot(df['Year'], df['Sales'])\n",
    "plt.title(\"Sales Over Years\")\n",
    "plt.xlabel(\"Year\")\n",
    "plt.ylabel(\"Sales\")\n",
    "plt.show()\n"
   ]
  },
  {
   "cell_type": "code",
   "execution_count": null,
   "id": "e537e5c3",
   "metadata": {},
   "outputs": [
    {
     "name": "stdout",
     "output_type": "stream",
     "text": [
      "     sepal_length  sepal_width  petal_length  petal_width    species\n",
      "0             5.1          3.5           1.4          0.2     setosa\n",
      "1             4.9          3.0           1.4          0.2     setosa\n",
      "2             4.7          3.2           1.3          0.2     setosa\n",
      "3             4.6          3.1           1.5          0.2     setosa\n",
      "4             5.0          3.6           1.4          0.2     setosa\n",
      "..            ...          ...           ...          ...        ...\n",
      "145           6.7          3.0           5.2          2.3  virginica\n",
      "146           6.3          2.5           5.0          1.9  virginica\n",
      "147           6.5          3.0           5.2          2.0  virginica\n",
      "148           6.2          3.4           5.4          2.3  virginica\n",
      "149           5.9          3.0           5.1          1.8  virginica\n",
      "\n",
      "[150 rows x 5 columns]\n"
     ]
    }
   ],
   "source": [
    "df=pd.read_csv('/Users/ajitnemkul/Desktop/allCodes/aipython/lab1/iris.csv')\n",
    "print(df)"
   ]
  },
  {
   "cell_type": "code",
   "execution_count": 21,
   "id": "f6477902",
   "metadata": {},
   "outputs": [
    {
     "name": "stdout",
     "output_type": "stream",
     "text": [
      "            sepal_length  sepal_width  petal_length  petal_width\n",
      "species                                                         \n",
      "setosa             5.006        3.418         1.464        0.244\n",
      "versicolor         5.936        2.770         4.260        1.326\n",
      "virginica          6.588        2.974         5.552        2.026\n"
     ]
    }
   ],
   "source": [
    "meow=df.groupby('species').mean()\n",
    "print(meow)"
   ]
  }
 ],
 "metadata": {
  "kernelspec": {
   "display_name": "venv",
   "language": "python",
   "name": "python3"
  },
  "language_info": {
   "codemirror_mode": {
    "name": "ipython",
    "version": 3
   },
   "file_extension": ".py",
   "mimetype": "text/x-python",
   "name": "python",
   "nbconvert_exporter": "python",
   "pygments_lexer": "ipython3",
   "version": "3.9.6"
  }
 },
 "nbformat": 4,
 "nbformat_minor": 5
}
